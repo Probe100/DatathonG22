{
 "cells": [
  {
   "cell_type": "code",
   "execution_count": 3,
   "metadata": {
    "scrolled": true
   },
   "outputs": [
    {
     "name": "stderr",
     "output_type": "stream",
     "text": [
      "/Users/brucez/anaconda3/lib/python3.6/site-packages/IPython/core/interactiveshell.py:2698: DtypeWarning: Columns (17,18,24,25,26,27,28,29) have mixed types. Specify dtype option on import or set low_memory=False.\n",
      "  interactivity=interactivity, compiler=compiler, result=result)\n"
     ]
    }
   ],
   "source": [
    "import pandas as pd \n",
    "import numpy as np\n",
    "import lightgbm as lgb # ML model\n",
    "from sklearn.metrics import accuracy_score \n",
    "import zipfile as zp\n",
    "zf = zp.ZipFile('new_raw.zip')\n",
    "df = pd.read_csv(zf.open('new_raw.csv'))"
   ]
  },
  {
   "cell_type": "code",
   "execution_count": 2,
   "metadata": {
    "collapsed": true
   },
   "outputs": [],
   "source": [
    "#drop useless features\n",
    "drops = ['Unnamed: 0','Unnamed: 0.1','GEO.id','GEO.id2','GEO.display-label','NAICS.id','RCPSZFE.display-label','YEAR.id','city_x','state_x','GCT_STUB.target-geo-id','GCT_STUB.display-label_x','location','Area in square miles - Water area','Area in square miles - Total area','Density per square mile of land area - Population','Density per square mile of land area - Housing units','income_margin_error','state_y','city_y']\n",
    "df = df.drop(drops,1)"
   ]
  },
  {
   "cell_type": "code",
   "execution_count": 3,
   "metadata": {},
   "outputs": [
    {
     "name": "stdout",
     "output_type": "stream",
     "text": [
      "<class 'pandas.core.frame.DataFrame'>\n",
      "RangeIndex: 4358918 entries, 0 to 4358917\n",
      "Data columns (total 12 columns):\n",
      "NAICS.display-label                 object\n",
      "RCPSZFE.id                          int64\n",
      "ESTAB                               int64\n",
      "city-state                          object\n",
      "Population                          object\n",
      "Housing units                       object\n",
      "Area in square miles - Land area    float64\n",
      "income                              object\n",
      "poverty_rate                        object\n",
      "poverty_margin_error                object\n",
      "Median_age                          object\n",
      "age_margin_error                    object\n",
      "dtypes: float64(1), int64(2), object(9)\n",
      "memory usage: 399.1+ MB\n"
     ]
    }
   ],
   "source": [
    "#view the data\n",
    "df.info()"
   ]
  },
  {
   "cell_type": "code",
   "execution_count": 4,
   "metadata": {
    "collapsed": true
   },
   "outputs": [],
   "source": [
    "# change to numerical type\n",
    "df[['Population','Housing units','Area in square miles - Land area','poverty_rate','Median_age','income','poverty_margin_error','age_margin_error','age_margin_error']] = df[['Population','Housing units','Area in square miles - Land area','poverty_rate','Median_age','income','poverty_margin_error','age_margin_error','age_margin_error']].apply(pd.to_numeric,errors='coerce')\n"
   ]
  },
  {
   "cell_type": "code",
   "execution_count": 5,
   "metadata": {
    "collapsed": true
   },
   "outputs": [],
   "source": [
    "#drop NA values\n",
    "df = df.dropna(axis = 0)"
   ]
  },
  {
   "cell_type": "code",
   "execution_count": 6,
   "metadata": {},
   "outputs": [
    {
     "name": "stdout",
     "output_type": "stream",
     "text": [
      "<class 'pandas.core.frame.DataFrame'>\n",
      "Int64Index: 3976037 entries, 0 to 4358917\n",
      "Data columns (total 12 columns):\n",
      "NAICS.display-label                 object\n",
      "RCPSZFE.id                          int64\n",
      "ESTAB                               int64\n",
      "city-state                          object\n",
      "Population                          float64\n",
      "Housing units                       float64\n",
      "Area in square miles - Land area    float64\n",
      "income                              float64\n",
      "poverty_rate                        float64\n",
      "poverty_margin_error                float64\n",
      "Median_age                          float64\n",
      "age_margin_error                    float64\n",
      "dtypes: float64(8), int64(2), object(2)\n",
      "memory usage: 394.4+ MB\n"
     ]
    }
   ],
   "source": [
    "#complete dataset\n",
    "df.info()"
   ]
  },
  {
   "cell_type": "code",
   "execution_count": 7,
   "metadata": {
    "collapsed": true
   },
   "outputs": [],
   "source": [
    "#set model parameters\n",
    "params = {'task': 'train',\n",
    "    'boosting_type': 'gbdt',\n",
    "    'objective': 'multiclass',\n",
    "    'num_class':8,\n",
    "    'metric': 'multi_logloss',\n",
    "    'learning_rate': 0.002296,\n",
    "    'max_depth': 7,\n",
    "    'num_leaves': 17,\n",
    "    'feature_fraction': 0.4,\n",
    "    'bagging_fraction': 0.6,\n",
    "    'bagging_freq': 17}\n",
    "\n",
    "# define frequency encoding method give each object data a number as label\n",
    "def fre_encode(object):\n",
    "    i=0\n",
    "    for item in df[object].unique():\n",
    "        df[object].replace(item,i,inplace=True)\n",
    "        i=i+1"
   ]
  },
  {
   "cell_type": "code",
   "execution_count": 8,
   "metadata": {
    "collapsed": true
   },
   "outputs": [],
   "source": [
    "# encoding features and results \n",
    "fre_encode('NAICS.display-label')\n",
    "fre_encode('RCPSZFE.id')"
   ]
  },
  {
   "cell_type": "code",
   "execution_count": 9,
   "metadata": {
    "scrolled": true
   },
   "outputs": [
    {
     "data": {
      "text/plain": [
       "0    1049991\n",
       "1     990069\n",
       "6     639273\n",
       "5     360991\n",
       "4     301009\n",
       "7     278401\n",
       "3     235558\n",
       "2     120745\n",
       "Name: RCPSZFE.id, dtype: int64"
      ]
     },
     "execution_count": 9,
     "metadata": {},
     "output_type": "execute_result"
    }
   ],
   "source": [
    "# view result distribution\n",
    "df['RCPSZFE.id'].value_counts()"
   ]
  },
  {
   "cell_type": "code",
   "execution_count": 10,
   "metadata": {
    "collapsed": true
   },
   "outputs": [],
   "source": [
    "# random select to create an unbiased dataset\n",
    "new_0 = df[df['RCPSZFE.id'] == 0].sample(120745)\n",
    "new_1 = df[df['RCPSZFE.id'] == 1].sample(120745)\n",
    "new_2 = df[df['RCPSZFE.id'] == 2].sample(120745)\n",
    "new_3 = df[df['RCPSZFE.id'] == 3].sample(120745)\n",
    "new_4 = df[df['RCPSZFE.id'] == 4].sample(120745)\n",
    "new_5 = df[df['RCPSZFE.id'] == 5].sample(120745)\n",
    "new_6 = df[df['RCPSZFE.id'] == 6].sample(120745)\n",
    "new_7 = df[df['RCPSZFE.id'] == 7].sample(120745)\n",
    "frames = [new_0,new_1,new_2,new_3,new_4,new_5,new_6,new_7]\n",
    "test_df = pd.concat(frames)"
   ]
  },
  {
   "cell_type": "code",
   "execution_count": 14,
   "metadata": {
    "collapsed": true
   },
   "outputs": [],
   "source": [
    "# split dataset into training and predicting set 0.85 : 0.15\n",
    "from sklearn.model_selection import train_test_split\n",
    "predictors = ['ESTAB','Population','Housing units','Area in square miles - Land area','income','poverty_rate','Median_age','poverty_margin_error','age_margin_error']\n",
    "X = test_df[predictors] \n",
    "y = test_df['RCPSZFE.id']\n",
    "X_train, X_test, y_train, y_test = train_test_split( X, y, test_size=0.15, random_state=30)"
   ]
  },
  {
   "cell_type": "code",
   "execution_count": 18,
   "metadata": {
    "scrolled": true
   },
   "outputs": [
    {
     "name": "stdout",
     "output_type": "stream",
     "text": [
      "[20]\tcv_agg's multi_logloss: 2.0781 + 4.21593e-06\n",
      "[40]\tcv_agg's multi_logloss: 2.07678 + 6.65762e-06\n",
      "[60]\tcv_agg's multi_logloss: 2.07554 + 1.0281e-05\n",
      "[80]\tcv_agg's multi_logloss: 2.07442 + 1.13762e-05\n",
      "[100]\tcv_agg's multi_logloss: 2.07326 + 1.42338e-05\n",
      "[120]\tcv_agg's multi_logloss: 2.07222 + 1.72888e-05\n",
      "[140]\tcv_agg's multi_logloss: 2.07106 + 2.08008e-05\n",
      "[160]\tcv_agg's multi_logloss: 2.06996 + 2.31979e-05\n",
      "[180]\tcv_agg's multi_logloss: 2.06902 + 2.38767e-05\n",
      "[200]\tcv_agg's multi_logloss: 2.06796 + 2.4631e-05\n",
      "199\n"
     ]
    },
    {
     "data": {
      "text/plain": [
       "0.17746076442088698"
      ]
     },
     "execution_count": 18,
     "metadata": {},
     "output_type": "execute_result"
    }
   ],
   "source": [
    "lgtrain = lgb.Dataset(X_train,label=y_train) \n",
    "# cross validation\n",
    "lgb_cv = lgb.cv(params, lgtrain, num_boost_round=200, nfold=3, shuffle=True, stratified=True, verbose_eval=20, early_stopping_rounds=100)\n",
    "\n",
    "nround = lgb_cv['multi_logloss-mean'].index(np.min(lgb_cv['multi_logloss-mean']))\n",
    "\n",
    "# show multi-logloss every nround\n",
    "print(nround)\n",
    "\n",
    "# train the model\n",
    "model = lgb.train(params, lgtrain, num_boost_round=nround)\n",
    "\n",
    "# use the model for prediction\n",
    "y_pred = model.predict(X_test)\n",
    "mypredictions = []\n",
    "\n",
    "# change the result into categories\n",
    "for i in y_pred:\n",
    "    mypredictions.append(np.argmax(i))\n",
    "\n",
    "# show the accuracy\n",
    "accuracy_score(y_test, mypredictions)"
   ]
  },
  {
   "cell_type": "code",
   "execution_count": 21,
   "metadata": {},
   "outputs": [
    {
     "data": {
      "text/plain": [
       "<matplotlib.figure.Figure at 0x1223a7470>"
      ]
     },
     "metadata": {},
     "output_type": "display_data"
    },
    {
     "data": {
      "image/png": "[encoded data removed]",
      "text/plain": [
       "<matplotlib.figure.Figure at 0x1216215c0>"
      ]
     },
     "metadata": {},
     "output_type": "display_data"
    }
   ],
   "source": [
    "# visualize the importance of features\n",
    "import matplotlib.pylab as plt\n",
    "plt.figure(figsize=(80,20))\n",
    "lgb.plot_importance(model, max_num_features=30)\n",
    "plt.title(\"Featurer importances\")\n",
    "plt.show()"
   ]
  },
  {
   "cell_type": "code",
   "execution_count": null,
   "metadata": {
    "collapsed": true
   },
   "outputs": [],
   "source": []
  }
 ],
 "metadata": {
  "kernelspec": {
   "display_name": "Python 3",
   "language": "python",
   "name": "python3"
  },
  "language_info": {
   "codemirror_mode": {
    "name": "ipython",
    "version": 3
   },
   "file_extension": ".py",
   "mimetype": "text/x-python",
   "name": "python",
   "nbconvert_exporter": "python",
   "pygments_lexer": "ipython3",
   "version": "3.6.9"
  }
 },
 "nbformat": 4,
 "nbformat_minor": 2
}
